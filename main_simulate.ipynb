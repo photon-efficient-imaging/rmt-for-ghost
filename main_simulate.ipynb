{
 "cells": [
  {
   "cell_type": "markdown",
   "metadata": {},
   "source": [
    "# Performance Analysis of Low-Flux Least-Squares Single-Pixel Imaging\n",
    "## by D. Shin, J. H. Shapiro, V. K. Goyal"
   ]
  },
  {
   "cell_type": "code",
   "execution_count": null,
   "metadata": {
    "collapsed": false
   },
   "outputs": [],
   "source": [
    "import numpy as np\n",
    "import matplotlib.pyplot as plt\n",
    "from tqdm import tqdm\n",
    "from scipy.misc import imread\n",
    "% matplotlib inline\n",
    "\n",
    "def mse_asymptotic(x,n,m,p):\n",
    "    return (((n-1)*p+1-p)/float(n*p+1-p))*(n*sum(x)/float((1-p)*m))\n",
    "\n",
    "def mse_proposed(x,n,m,p):\n",
    "    return (n-1)*sum(x)/((1-float(p))*(m-n))\n"
   ]
  },
  {
   "cell_type": "markdown",
   "metadata": {},
   "source": [
    "### comparing MSE estimators "
   ]
  },
  {
   "cell_type": "code",
   "execution_count": null,
   "metadata": {
    "collapsed": false
   },
   "outputs": [],
   "source": [
    "\n",
    "# values of (n,p) pairs\n",
    "np_pair = [(100,0.2), (100,0.5), (100,0.8), (20,0.2), (20,0.5), (20,0.8)]\n",
    "\n",
    "# values of q\n",
    "v_q = np.linspace(0.1,0.9,20)\n",
    "\n",
    "\n",
    "n_monte = 20 # num monte carlo trials (set ~1000 to see good convergence)\n",
    "\n",
    "print '* * * '\n",
    "print 'num. monte carlo trials for true MSE = '+str(n_monte)\n",
    "print '* * * '\n",
    "\n",
    "save_logmse = []\n",
    "save_logmse_approx = []\n",
    "save_logmse_proposed = []\n",
    "for np_val in np_pair:\n",
    "    \n",
    "    n = np_val[0]\n",
    "    p = np_val[1]    \n",
    "    print 'signal dimension =  '+str(n)\n",
    "    print 'modulation prob  =  '+str(p)\n",
    "    print ''\n",
    "\n",
    "    v_mse_proposed = []\n",
    "    v_mse_approx = []\n",
    "    v_mse = []\n",
    "    for q in tqdm(v_q):\n",
    "        m = int(n/q)\n",
    "\n",
    "        v_monte_mse = []\n",
    "        v_monte_mse_approx = []\n",
    "        v_monte_mse_proposed = []\n",
    "        for i in range(n_monte):\n",
    "            x = np.random.rand(n)*10\n",
    "            A = (np.random.rand(m,n)<p).astype(float)\n",
    "            y = np.random.poisson(np.array(np.matrix(A)*np.matrix(x).T))\n",
    "            x_est = np.array((np.matrix(np.linalg.pinv(A))*y).T)[0]\n",
    "            v_monte_mse.append(np.linalg.norm(x_est-x)**2) \n",
    "            v_monte_mse_approx.append(mse_asymptotic(x,n,m,p))\n",
    "            v_monte_mse_proposed.append(mse_proposed(x,n,m,p))\n",
    "        v_mse.append(np.mean(v_monte_mse))\n",
    "        v_mse_approx.append(np.mean(v_monte_mse_approx))\n",
    "        v_mse_proposed.append(np.mean(v_monte_mse_proposed))\n",
    "    v_logmse = np.log10(v_mse)\n",
    "    v_logmse_approx = np.log10(v_mse_approx)\n",
    "    v_logmse_proposed = np.log10(v_mse_proposed)    \n",
    "    save_logmse.append(v_logmse)\n",
    "    save_logmse_approx.append(v_logmse_approx)\n",
    "    save_logmse_proposed.append(v_logmse_proposed)\n",
    "    \n",
    "print 'finished simulation'\n"
   ]
  },
  {
   "cell_type": "code",
   "execution_count": null,
   "metadata": {
    "collapsed": false
   },
   "outputs": [],
   "source": [
    "\n",
    "plt.rc('text', usetex=True)\n",
    "plt.rc('font', family='serif')\n",
    "\n",
    "limx = [0.1,0.9]\n",
    "limy = [1,5]\n",
    "fgsz = (3.5,3)\n",
    "\n",
    "for i in range(len(np_pair)):\n",
    "    n_val = np_pair[i][0]\n",
    "    p_val = np_pair[i][1]\n",
    "    \n",
    "    print 'signal dimension =  '+str(n_val)\n",
    "    print 'modulation prob  =  '+str(p_val)\n",
    "    print ''\n",
    "    plt.figure(figsize=fgsz)\n",
    "    plt.hold('true')\n",
    "    plt.plot(v_q,save_logmse[i],'k--',linewidth=3,ms=5)\n",
    "    plt.plot(v_q,save_logmse_approx[i],'b-',ms=5)\n",
    "    plt.plot(v_q,save_logmse_proposed[i],'r-',ms=5)\n",
    "    plt.xlabel(r'$q$',fontsize=14,labelpad=-1)\n",
    "    plt.ylabel(r'log-MSE',fontsize=14,labelpad=-1)\n",
    "    #plt.title(r'$n=$'+str(n_val)+', $p=$'+str(p_val), fontsize=15)\n",
    "    plt.text(0.15,4.5,r'$n=$'+str(n_val)+', $p=$'+str(p_val),\\\n",
    "             fontsize=15,horizontalalignment='left',fontweight='bold')\n",
    "    plt.tick_params(axis='both', which='major', labelsize=14)\n",
    "    plt.xlim(limx)\n",
    "    plt.ylim(limy)\n",
    "    #plt.savefig('results/results_sim_n'+str(n_val)+'_p'+str(p_val)+'.eps', format=\"eps\",bbox_inches='tight')\n",
    "\n",
    "    plt.show()\n"
   ]
  },
  {
   "cell_type": "code",
   "execution_count": null,
   "metadata": {
    "collapsed": true
   },
   "outputs": [],
   "source": []
  }
 ],
 "metadata": {
  "kernelspec": {
   "display_name": "Python 2",
   "language": "python",
   "name": "python2"
  },
  "language_info": {
   "codemirror_mode": {
    "name": "ipython",
    "version": 2
   },
   "file_extension": ".py",
   "mimetype": "text/x-python",
   "name": "python",
   "nbconvert_exporter": "python",
   "pygments_lexer": "ipython2",
   "version": "2.7.11"
  }
 },
 "nbformat": 4,
 "nbformat_minor": 0
}
